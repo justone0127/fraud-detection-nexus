{
 "cells": [
  {
   "cell_type": "code",
   "execution_count": 2,
   "id": "ab28c29b-4594-4517-8d9b-387256cf6536",
   "metadata": {},
   "outputs": [
    {
     "name": "stdout",
     "output_type": "stream",
     "text": [
      "Looking in indexes: http://nexus.apps.cluster-btrvw.btrvw.sandbox5316.opentlc.com/repository/pypi-internal/simple\n",
      "Requirement already satisfied: model-registry==0.2.15 in /opt/app-root/lib64/python3.11/site-packages (0.2.15)\n",
      "Requirement already satisfied: aiohttp<4.0.0,>=3.9.5 in /opt/app-root/lib64/python3.11/site-packages (from model-registry==0.2.15) (3.12.13)\n",
      "Requirement already satisfied: aiohttp-retry<3.0.0,>=2.8.3 in /opt/app-root/lib64/python3.11/site-packages (from model-registry==0.2.15) (2.9.1)\n",
      "Requirement already satisfied: eval-type-backport<0.3.0,>=0.2.0 in /opt/app-root/lib64/python3.11/site-packages (from model-registry==0.2.15) (0.2.2)\n",
      "Requirement already satisfied: nest-asyncio<2.0.0,>=1.6.0 in /opt/app-root/lib64/python3.11/site-packages (from model-registry==0.2.15) (1.6.0)\n",
      "Requirement already satisfied: pydantic<3.0.0,>=2.7.4 in /opt/app-root/lib64/python3.11/site-packages (from model-registry==0.2.15) (2.11.7)\n",
      "Requirement already satisfied: python-dateutil<3.0.0,>=2.9.0.post0 in /opt/app-root/lib64/python3.11/site-packages (from model-registry==0.2.15) (2.9.0.post0)\n",
      "Requirement already satisfied: typing-extensions<5.0,>=4.8 in /opt/app-root/lib64/python3.11/site-packages (from model-registry==0.2.15) (4.14.0)\n",
      "Requirement already satisfied: aiohappyeyeballs>=2.5.0 in /opt/app-root/lib64/python3.11/site-packages (from aiohttp<4.0.0,>=3.9.5->model-registry==0.2.15) (2.6.1)\n",
      "Requirement already satisfied: aiosignal>=1.1.2 in /opt/app-root/lib64/python3.11/site-packages (from aiohttp<4.0.0,>=3.9.5->model-registry==0.2.15) (1.3.2)\n",
      "Requirement already satisfied: attrs>=17.3.0 in /opt/app-root/lib64/python3.11/site-packages (from aiohttp<4.0.0,>=3.9.5->model-registry==0.2.15) (25.3.0)\n",
      "Requirement already satisfied: frozenlist>=1.1.1 in /opt/app-root/lib64/python3.11/site-packages (from aiohttp<4.0.0,>=3.9.5->model-registry==0.2.15) (1.7.0)\n",
      "Requirement already satisfied: multidict<7.0,>=4.5 in /opt/app-root/lib64/python3.11/site-packages (from aiohttp<4.0.0,>=3.9.5->model-registry==0.2.15) (6.5.0)\n",
      "Requirement already satisfied: propcache>=0.2.0 in /opt/app-root/lib64/python3.11/site-packages (from aiohttp<4.0.0,>=3.9.5->model-registry==0.2.15) (0.3.2)\n",
      "Requirement already satisfied: yarl<2.0,>=1.17.0 in /opt/app-root/lib64/python3.11/site-packages (from aiohttp<4.0.0,>=3.9.5->model-registry==0.2.15) (1.20.1)\n",
      "Requirement already satisfied: annotated-types>=0.6.0 in /opt/app-root/lib64/python3.11/site-packages (from pydantic<3.0.0,>=2.7.4->model-registry==0.2.15) (0.7.0)\n",
      "Requirement already satisfied: pydantic-core==2.33.2 in /opt/app-root/lib64/python3.11/site-packages (from pydantic<3.0.0,>=2.7.4->model-registry==0.2.15) (2.33.2)\n",
      "Requirement already satisfied: typing-inspection>=0.4.0 in /opt/app-root/lib64/python3.11/site-packages (from pydantic<3.0.0,>=2.7.4->model-registry==0.2.15) (0.4.1)\n",
      "Requirement already satisfied: six>=1.5 in /opt/app-root/lib64/python3.11/site-packages (from python-dateutil<3.0.0,>=2.9.0.post0->model-registry==0.2.15) (1.17.0)\n",
      "Requirement already satisfied: idna>=2.0 in /opt/app-root/lib64/python3.11/site-packages (from yarl<2.0,>=1.17.0->aiohttp<4.0.0,>=3.9.5->model-registry==0.2.15) (3.10)\n"
     ]
    }
   ],
   "source": [
    "!pip install model-registry==0.2.15"
   ]
  },
  {
   "cell_type": "code",
   "execution_count": 3,
   "id": "9fffe095-49bd-4e3c-a79a-d4d0426830aa",
   "metadata": {},
   "outputs": [],
   "source": [
    "from model_registry import ModelRegistry\n",
    "from model_registry.utils import S3Params\n",
    "from model_registry.exceptions import StoreError\n",
    "import os"
   ]
  },
  {
   "cell_type": "code",
   "execution_count": 4,
   "id": "189e5a84-13bd-4e8e-aa54-632ab4136816",
   "metadata": {},
   "outputs": [],
   "source": [
    "# Add your user name and cluster domain (apps.xxx) that are shared with you before\n",
    "\n",
    "username = \"fraud\"\n",
    "cluster_domain = \"apps.cluster-btrvw.btrvw.sandbox5316.opentlc.com\""
   ]
  },
  {
   "cell_type": "code",
   "execution_count": 5,
   "id": "4bf01e86-8185-47c5-93d6-d9e0552605f8",
   "metadata": {},
   "outputs": [
    {
     "name": "stderr",
     "output_type": "stream",
     "text": [
      "09:18:22.047 - model-registry:WARNING: Sourcing user token from default envvar: KF_PIPELINES_SA_TOKEN_PATH\n"
     ]
    }
   ],
   "source": [
    "# Set up the model registry connection\n",
    "model_registry_url = f\"https://{username}-registry-rest.{cluster_domain}\"\n",
    "author_name = username\n",
    "\n",
    "registry = ModelRegistry(server_address=model_registry_url, port=443, author=author_name, is_secure=False)"
   ]
  },
  {
   "cell_type": "code",
   "execution_count": 6,
   "id": "1e88285a-9e55-4d8e-9f33-433a5095f2bb",
   "metadata": {},
   "outputs": [],
   "source": [
    "# Model details we want to register\n",
    "registered_model_name = \"fraud\"\n",
    "version = \"0.0.1\"\n",
    "model_path = \"models/fraud/\""
   ]
  },
  {
   "cell_type": "code",
   "execution_count": 7,
   "id": "01119832-718f-4c75-9138-7a8b0a6e0a21",
   "metadata": {},
   "outputs": [
    {
     "name": "stdout",
     "output_type": "stream",
     "text": [
      "'fraud' version '0.0.1' has been registered here: https://rhods-dashboard-redhat-ods-applications.apps.cluster-btrvw.btrvw.sandbox5316.opentlc.com/modelRegistry/fraud-registry/registeredModels/1/versions/2/details\n"
     ]
    }
   ],
   "source": [
    "s3_upload_params = S3Params(\n",
    "    bucket_name=os.environ.get('AWS_S3_BUCKET'),\n",
    "    s3_prefix=\"models/fraud/\",\n",
    ")\n",
    "\n",
    "try:\n",
    "    registered_model = registry.upload_artifact_and_register_model(\n",
    "        name=registered_model_name,\n",
    "        model_files_path=model_path,\n",
    "        model_format_name=\"onnx\",\n",
    "        author=username,\n",
    "        model_format_version=\"1\",\n",
    "        version=version,\n",
    "        description=\"data\",\n",
    "        metadata={\n",
    "            \"accuracy\": 0.3,\n",
    "            \"license\": \"apache-2.0\"\n",
    "        },\n",
    "        upload_params=s3_upload_params\n",
    "    )\n",
    "\n",
    "    print(f\"'{registered_model_name}' version '{version}' has been registered here: https://rhods-dashboard-redhat-ods-applications.{cluster_domain}/modelRegistry/{username}-registry/registeredModels/1/versions/{registry.get_model_version(registered_model_name, version).id}/details\")\n",
    "\n",
    "except StoreError:\n",
    "    rmver = registry.get_model_version(registered_model_name, version)\n",
    "    print(f\"Model and version already exists:\\n{rmver}\")"
   ]
  },
  {
   "cell_type": "code",
   "execution_count": 8,
   "id": "de0c75d4-e3de-43bf-a379-e8e00f8d383e",
   "metadata": {},
   "outputs": [
    {
     "name": "stdout",
     "output_type": "stream",
     "text": [
      "Registered Model: id='1' description=None external_id=None create_time_since_epoch='1756545505439' last_update_time_since_epoch='1756545505439' custom_properties=None name='fraud' owner='fraud' state=<RegisteredModelState.LIVE: 'LIVE'> with ID 1\n"
     ]
    }
   ],
   "source": [
    "# Print the general info of registered model\n",
    "model = registry.get_registered_model(\"fraud\")\n",
    "print(\"Registered Model:\", model, \"with ID\", model.id)"
   ]
  },
  {
   "cell_type": "code",
   "execution_count": 9,
   "id": "66c54a98-d6fc-40de-9e46-13f0f17b59d4",
   "metadata": {},
   "outputs": [
    {
     "name": "stdout",
     "output_type": "stream",
     "text": [
      "Model Version: id='2' description='data' external_id=None create_time_since_epoch='1756545505566' last_update_time_since_epoch='1756545505566' custom_properties={'accuracy': 0.3, 'license': 'apache-2.0'} name='0.0.1' author='fraud' state=<ModelVersionState.LIVE: 'LIVE'> with ID 2\n"
     ]
    }
   ],
   "source": [
    "# Print the version info of registered model\n",
    "version = registry.get_model_version(\"fraud\", \"0.0.1\")\n",
    "print(\"Model Version:\", version, \"with ID\", version.id)"
   ]
  },
  {
   "cell_type": "code",
   "execution_count": 10,
   "id": "71683644-7f4e-47ac-b1ca-8873cbc333eb",
   "metadata": {},
   "outputs": [
    {
     "name": "stdout",
     "output_type": "stream",
     "text": [
      "Model Artifact: id='1' description=None external_id=None create_time_since_epoch='1756545505678' last_update_time_since_epoch='1756545505678' custom_properties=None name='fraud' uri='s3://mystorage/models/fraud?endpoint=https://minio-api-minio.apps.cluster-btrvw.btrvw.sandbox5316.opentlc.com&defaultRegion=none' state=<ArtifactState.UNKNOWN: 'UNKNOWN'> model_format_name='onnx' model_format_version='1' storage_key=None storage_path=None service_account_name=None model_source_kind=None model_source_class=None model_source_group=None model_source_id=None model_source_name=None with ID 1\n"
     ]
    }
   ],
   "source": [
    "# Print the artifact info of registered model\n",
    "art = registry.get_model_artifact(\"fraud\", \"0.0.1\")\n",
    "print(\"Model Artifact:\", art, \"with ID\", art.id)"
   ]
  },
  {
   "cell_type": "code",
   "execution_count": null,
   "id": "49cf41b7-58f7-4829-8d10-b9ca03ed2eaa",
   "metadata": {},
   "outputs": [],
   "source": []
  }
 ],
 "metadata": {
  "kernelspec": {
   "display_name": "Python 3.11",
   "language": "python",
   "name": "python3"
  },
  "language_info": {
   "codemirror_mode": {
    "name": "ipython",
    "version": 3
   },
   "file_extension": ".py",
   "mimetype": "text/x-python",
   "name": "python",
   "nbconvert_exporter": "python",
   "pygments_lexer": "ipython3",
   "version": "3.11.11"
  }
 },
 "nbformat": 4,
 "nbformat_minor": 5
}
